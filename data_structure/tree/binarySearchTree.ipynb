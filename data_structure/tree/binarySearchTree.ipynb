{
 "cells": [
  {
   "cell_type": "markdown",
   "metadata": {},
   "source": []
  },
  {
   "cell_type": "code",
   "execution_count": 23,
   "metadata": {},
   "outputs": [
    {
     "name": "stdout",
     "output_type": "stream",
     "text": [
      "[1, 2, 3, 4, 5, 6, 7]\n",
      "[1, 2, 3, 4, 5, 6, 7]\n",
      "[7, 6, 5, 4, 3, 2, 1]\n"
     ]
    },
    {
     "name": "stdout",
     "output_type": "stream",
     "text": [
      "1 2 3 4 5 6 7 None\n"
     ]
    }
   ],
   "source": [
    "class Node:\n",
    "    def __init__(self, data = None):\n",
    "        self.data = data\n",
    "        self.left = None\n",
    "        self.right = None\n",
    "\n",
    "def insert(root, data):\n",
    "    if root is None:\n",
    "        return Node(data)\n",
    "    if data <= root.data:\n",
    "        if root.left is None:\n",
    "            root.left = Node(data)\n",
    "        else:\n",
    "            insert(root.left, data)\n",
    "    else:\n",
    "        if root.right is None:\n",
    "            root.right = Node(data)\n",
    "        else:\n",
    "            insert(root.right, data)\n",
    "    return root\n",
    "\n",
    "def pre_order_traversal(node, visited=None):\n",
    "    if visited is None:\n",
    "        visited = []\n",
    "    if node:\n",
    "        visited.append(node.data)\n",
    "        pre_order_traversal(node.left, visited)\n",
    "        pre_order_traversal(node.right, visited)\n",
    "    return visited\n",
    "\n",
    "def in_order_traversal(node, visited=None):\n",
    "    if visited is None:\n",
    "        visited = []\n",
    "    if node:\n",
    "        in_order_traversal(node.left, visited)\n",
    "        visited.append(node.data)\n",
    "        in_order_traversal(node.right, visited)\n",
    "    return visited\n",
    "\n",
    "def post_order_traversal(node, visited=None):\n",
    "    if visited is None:\n",
    "        visited = []\n",
    "    if node:\n",
    "        post_order_traversal(node.left, visited)\n",
    "        post_order_traversal(node.right, visited)\n",
    "        visited.append(node.data)\n",
    "    return visited\n",
    "\n",
    "def level_order_traversal(root):\n",
    "    if root is None:\n",
    "        return\n",
    "    else:\n",
    "        queue = []\n",
    "        queue.append(root)\n",
    "        while(len(queue) > 0):\n",
    "            print(queue[0].data, end=\" \")\n",
    "            node = queue.pop(0)\n",
    "            if node.left is not None:\n",
    "                queue.append(node.left)\n",
    "            if node.right is not None:\n",
    "                queue.append(node.right)\n",
    "\n",
    "\n",
    "\n",
    "newNode = Node(1)\n",
    "insert(newNode, 2)\n",
    "insert(newNode, 3)\n",
    "insert(newNode, 4)\n",
    "insert(newNode, 5)\n",
    "insert(newNode, 6)\n",
    "insert(newNode, 7)\n",
    "print(pre_order_traversal(newNode))\n",
    "print(in_order_traversal(newNode))\n",
    "print(post_order_traversal(newNode))\n",
    "print(level_order_traversal(newNode))"
   ]
  }
 ],
 "metadata": {
  "kernelspec": {
   "display_name": "Python 3",
   "language": "python",
   "name": "python3"
  },
  "language_info": {
   "codemirror_mode": {
    "name": "ipython",
    "version": 3
   },
   "file_extension": ".py",
   "mimetype": "text/x-python",
   "name": "python",
   "nbconvert_exporter": "python",
   "pygments_lexer": "ipython3",
   "version": "3.12.2"
  }
 },
 "nbformat": 4,
 "nbformat_minor": 2
}
